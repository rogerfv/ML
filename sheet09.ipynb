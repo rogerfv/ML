{
 "cells": [
  {
   "cell_type": "markdown",
   "metadata": {},
   "source": [
    "# Sheet 9"
   ]
  },
  {
   "cell_type": "markdown",
   "metadata": {},
   "source": [
    "## 2 Under the hood of LLMs: Llama 2.7B"
   ]
  },
  {
   "cell_type": "code",
   "execution_count": 1,
   "metadata": {},
   "outputs": [
    {
     "data": {
      "application/vnd.jupyter.widget-view+json": {
       "model_id": "be1bbb8571f849f7889e3030f815fce3",
       "version_major": 2,
       "version_minor": 0
      },
      "text/plain": [
       "Loading checkpoint shards:   0%|          | 0/2 [00:00<?, ?it/s]"
      ]
     },
     "metadata": {},
     "output_type": "display_data"
    },
    {
     "name": "stdout",
     "output_type": "stream",
     "text": [
      "LlamaForCausalLM(\n",
      "  (model): LlamaModel(\n",
      "    (embed_tokens): Embedding(32000, 4096)\n",
      "    (layers): ModuleList(\n",
      "      (0-31): 32 x LlamaDecoderLayer(\n",
      "        (self_attn): LlamaSdpaAttention(\n",
      "          (q_proj): Linear(in_features=4096, out_features=4096, bias=False)\n",
      "          (k_proj): Linear(in_features=4096, out_features=4096, bias=False)\n",
      "          (v_proj): Linear(in_features=4096, out_features=4096, bias=False)\n",
      "          (o_proj): Linear(in_features=4096, out_features=4096, bias=False)\n",
      "          (rotary_emb): LlamaRotaryEmbedding()\n",
      "        )\n",
      "        (mlp): LlamaMLP(\n",
      "          (gate_proj): Linear(in_features=4096, out_features=11008, bias=False)\n",
      "          (up_proj): Linear(in_features=4096, out_features=11008, bias=False)\n",
      "          (down_proj): Linear(in_features=11008, out_features=4096, bias=False)\n",
      "          (act_fn): SiLU()\n",
      "        )\n",
      "        (input_layernorm): LlamaRMSNorm((4096,), eps=1e-05)\n",
      "        (post_attention_layernorm): LlamaRMSNorm((4096,), eps=1e-05)\n",
      "      )\n",
      "    )\n",
      "    (norm): LlamaRMSNorm((4096,), eps=1e-05)\n",
      "    (rotary_emb): LlamaRotaryEmbedding()\n",
      "  )\n",
      "  (lm_head): Linear(in_features=4096, out_features=32000, bias=False)\n",
      ")\n"
     ]
    }
   ],
   "source": [
    "from transformers import AutoTokenizer, AutoModelForCausalLM\n",
    "import torch\n",
    "\n",
    "device = torch.device('cuda:0' if torch.cuda.is_available() else 'cpu')\n",
    "\n",
    "with open(\"access_token.txt\", \"r\") as f:\n",
    "    access_token = f.read().strip()\n",
    "\n",
    "model = \"meta-llama/Llama-2-7b-chat-hf\"\n",
    "tokenizer = AutoTokenizer.from_pretrained(model, token=access_token)\n",
    "model = AutoModelForCausalLM.from_pretrained(model, token=access_token, torch_dtype = torch.float16).to(device)\n",
    "print(model)"
   ]
  },
  {
   "cell_type": "code",
   "execution_count": 2,
   "metadata": {},
   "outputs": [
    {
     "name": "stdout",
     "output_type": "stream",
     "text": [
      "id=5100, compet\n",
      "id=5101, pair\n",
      "id=5102, inglés\n",
      "id=5103, Response\n",
      "id=5104, Fig\n",
      "id=5105, grad\n",
      "id=5106, documentation\n",
      "id=5107, cant\n",
      "id=5108, appreci\n",
      "id=5109, ån\n",
      "\n",
      "tokenizer length: 32000\n",
      "\n",
      "sun_id=tensor([   1, 6575])\n",
      "<s> sun\n",
      "embedding shape: torch.Size([2, 4096])\n"
     ]
    }
   ],
   "source": [
    "for id in range(5100, 5110):\n",
    "    print(f\"{id=}, {tokenizer.decode([id])}\")\n",
    "\n",
    "print(\"\\ntokenizer length:\", len(tokenizer))\n",
    "\n",
    "sun_id = tokenizer.encode(\"sun\", return_tensors=\"pt\")[-1]\n",
    "print(f\"\\n{sun_id=}\")\n",
    "\n",
    "print(tokenizer.decode(sun_id))\n",
    "\n",
    "emb = model.get_input_embeddings()(sun_id.to(device))\n",
    "print(\"embedding shape:\", emb.shape)"
   ]
  },
  {
   "cell_type": "code",
   "execution_count": 3,
   "metadata": {},
   "outputs": [
    {
     "name": "stdout",
     "output_type": "stream",
     "text": [
      "<s> My favorite composer is\n",
      "\n",
      "logits shape: torch.Size([32000])\n",
      "\n",
      "Outputs:\n",
      "\n",
      "Moz: 0.25\n",
      "Ch: 0.11\n",
      "Be: 0.09\n",
      "Ludwig: 0.08\n",
      "Fr: 0.03\n",
      "Wolfgang: 0.02\n",
      "Ig: 0.02\n"
     ]
    }
   ],
   "source": [
    "sequence = \"My favorite composer is\"\n",
    "model_inputs = tokenizer(sequence, return_tensors=\"pt\").to(device)\n",
    "print(tokenizer.decode(model_inputs[\"input_ids\"].tolist()[0])) # view tokenized input\n",
    "with torch.no_grad():\n",
    "    outputs = model(**model_inputs)\n",
    "\n",
    "logits = outputs['logits'][0, -1, :]\n",
    "print(\"\\nlogits shape:\", logits.shape)\n",
    "\n",
    "probabilities = torch.nn.functional.softmax(logits, dim=-1)\n",
    "top_k = 7\n",
    "top_prob, top_ind = torch.topk(probabilities, top_k)\n",
    "\n",
    "print(\"\\nOutputs:\\n\")\n",
    "\n",
    "for i in range(top_k):\n",
    "    print(f\"{tokenizer.decode(top_ind[i].tolist())}: {top_prob[i]:.2f}\")"
   ]
  },
  {
   "cell_type": "code",
   "execution_count": 4,
   "metadata": {},
   "outputs": [
    {
     "name": "stdout",
     "output_type": "stream",
     "text": [
      "Unterscheidung \n",
      "Unterscheidung zwischen \n",
      "Unterscheidung zwischen  \n",
      "Unterscheidung zwischen  K \n",
      "Unterscheidung zwischen  K raft \n",
      "Unterscheidung zwischen  K raft  \n",
      "Unterscheidung zwischen  K raft  und \n",
      "Unterscheidung zwischen  K raft  und  \n",
      "Unterscheidung zwischen  K raft  und  K \n",
      "Unterscheidung zwischen  K raft  und  K raft \n",
      "Unterscheidung zwischen  K raft  und  K raft werk \n",
      "Unterscheidung zwischen  K raft  und  K raft werk  \n",
      "Unterscheidung zwischen  K raft  und  K raft werk   \n",
      "Unterscheidung zwischen  K raft  und  K raft werk    \n",
      "Unterscheidung zwischen  K raft  und  K raft werk     \n",
      "Unterscheidung zwischen  K raft  und  K raft werk     K \n",
      "Unterscheidung zwischen  K raft  und  K raft werk     K raft \n",
      "Unterscheidung zwischen  K raft  und  K raft werk     K raft  \n",
      "Unterscheidung zwischen  K raft  und  K raft werk     K raft  und \n",
      "Unterscheidung zwischen  K raft  und  K raft werk     K raft  und  \n",
      "Unterscheidung zwischen  K raft  und  K raft werk     K raft  und  K \n",
      "Unterscheidung zwischen  K raft  und  K raft werk     K raft  und  K raft \n",
      "Unterscheidung zwischen  K raft  und  K raft werk     K raft  und  K raft werk \n",
      "Unterscheidung zwischen  K raft  und  K raft werk     K raft  und  K raft werk  \n",
      "Unterscheidung zwischen  K raft  und  K raft werk     K raft  und  K raft werk  sind \n",
      "Unterscheidung zwischen  K raft  und  K raft werk     K raft  und  K raft werk  sind two \n",
      "Unterscheidung zwischen  K raft  und  K raft werk     K raft  und  K raft werk  sind two different \n",
      "Unterscheidung zwischen  K raft  und  K raft werk     K raft  und  K raft werk  sind two different German \n",
      "Unterscheidung zwischen  K raft  und  K raft werk     K raft  und  K raft werk  sind two different German words \n",
      "Unterscheidung zwischen  K raft  und  K raft werk     K raft  und  K raft werk  sind two different German words that \n"
     ]
    }
   ],
   "source": [
    "import regex as re\n",
    "\n",
    "sequence = \"\"\n",
    "model_inputs = tokenizer(sequence, return_tensors=\"pt\").to(device)\n",
    "\n",
    "generated_answer = \"\"\n",
    "for _ in range(30):\n",
    "    with torch.no_grad():\n",
    "        outputs = model(**model_inputs)\n",
    "        logits = outputs['logits'][0, -1, :]\n",
    "        probabilities = torch.nn.functional.softmax(logits, dim=-1)\n",
    "        next_token_id = torch.argmax(probabilities).unsqueeze(0)\n",
    "        model_inputs[\"input_ids\"] = torch.cat([model_inputs[\"input_ids\"], next_token_id.unsqueeze(0)], dim=-1)\n",
    "    \n",
    "    next_word = tokenizer.decode(next_token_id.tolist())\n",
    "    next_word = re.sub(r\"[^a-zA-Z0-9.?!]\", \"\", next_word)\n",
    "    generated_answer += next_word\n",
    "    generated_answer += \" \"\n",
    "    \n",
    "    print(generated_answer)"
   ]
  },
  {
   "cell_type": "markdown",
   "metadata": {},
   "source": [
    "## 3 Flow-based modeling"
   ]
  },
  {
   "cell_type": "markdown",
   "metadata": {},
   "source": [
    "### (b)"
   ]
  },
  {
   "cell_type": "code",
   "execution_count": 2,
   "metadata": {},
   "outputs": [
    {
     "data": {
      "image/png": "[encoded data removed]",
      "text/plain": [
       "<Figure size 640x480 with 1 Axes>"
      ]
     },
     "metadata": {},
     "output_type": "display_data"
    }
   ],
   "source": [
    "import numpy as np\n",
    "import matplotlib.pyplot as plt\n",
    "\n",
    "# load the 1d samples:\n",
    "samples = np.load(\"data/samples_1d.npy\")\n",
    "\n",
    "x_lin = np.linspace(0, 2, 1000)\n",
    "plt.hist(samples, bins=50, density=True)\n",
    "plt.plot(x_lin, 1/2 * x_lin, label=\"pdf(x) = 1/2*x, x in [0,2]\")\n",
    "plt.legend()\n",
    "plt.show()"
   ]
  },
  {
   "cell_type": "code",
   "execution_count": 4,
   "metadata": {},
   "outputs": [
    {
     "data": {
      "image/png": "[encoded data removed]",
      "text/plain": [
       "<Figure size 640x480 with 1 Axes>"
      ]
     },
     "metadata": {},
     "output_type": "display_data"
    }
   ],
   "source": [
    "# TODO: transform the samples to samples from pdf(y) = -1/2*y + 1, y in [0,2]\n",
    "\n",
    "y =2 - np.sqrt(4 - samples**2)\n",
    "\n",
    "plt.hist(y, bins=50, density=True)\n",
    "plt.plot(x_lin, - 1/2 * x_lin + 1, label=\"pdf(y) = -1/2*y + 1, x in [0,2]\")\n",
    "plt.legend()\n",
    "plt.show()"
   ]
  }
 ],
 "metadata": {
  "kernelspec": {
   "display_name": "Python 3",
   "language": "python",
   "name": "python3"
  },
  "language_info": {
   "codemirror_mode": {
    "name": "ipython",
    "version": 3
   },
   "file_extension": ".py",
   "mimetype": "text/x-python",
   "name": "python",
   "nbconvert_exporter": "python",
   "pygments_lexer": "ipython3",
   "version": "3.11.4"
  }
 },
 "nbformat": 4,
 "nbformat_minor": 2
}
